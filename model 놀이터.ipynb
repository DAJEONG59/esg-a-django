{
 "cells": [
  {
   "cell_type": "code",
   "execution_count": 1,
   "id": "de9cfb1a",
   "metadata": {},
   "outputs": [],
   "source": [
    "import os\n",
    "import django\n",
    "\n",
    "os.environ.setdefault('DJANGO_SETTINGS_MODULE', 'do_it_django_prj.settings')\n",
    "os.environ[\"DJANGO_ALLOW_ASYNC_UNSAFE\"] = \"true\"\n",
    "\n",
    "django.setup()"
   ]
  },
  {
   "cell_type": "code",
   "execution_count": 2,
   "id": "490ac8b1",
   "metadata": {},
   "outputs": [],
   "source": [
    "from diary.models import Memory"
   ]
  },
  {
   "cell_type": "code",
   "execution_count": 4,
   "id": "7d5f0b17",
   "metadata": {},
   "outputs": [
    {
     "data": {
      "text/plain": [
       "<Memory: Memory object (3)>"
      ]
     },
     "execution_count": 4,
     "metadata": {},
     "output_type": "execute_result"
    }
   ],
   "source": [
    "# 데이터베이스에 즉시 저장\n",
    "Memory.objects.create(title=\"title#1\", content=\"content#1\")"
   ]
  },
  {
   "cell_type": "code",
   "execution_count": 5,
   "id": "4bb627d0",
   "metadata": {},
   "outputs": [],
   "source": [
    "memory = Memory()\n",
    "memory.title = \"title#2\"\n",
    "memory.content = \"content#2\"\n",
    "memory.save()  # save 호출 시점에 저장"
   ]
  },
  {
   "cell_type": "code",
   "execution_count": null,
   "id": "0eec0f58",
   "metadata": {},
   "outputs": [],
   "source": []
  },
  {
   "cell_type": "code",
   "execution_count": 8,
   "id": "ee45ffbd",
   "metadata": {},
   "outputs": [
    {
     "data": {
      "text/plain": [
       "<Memory: Memory object (3)>"
      ]
     },
     "execution_count": 8,
     "metadata": {},
     "output_type": "execute_result"
    }
   ],
   "source": [
    "memory = Memory.objects.get(pk=3)  # 지정 조건, 즉시 조회\n",
    "memory"
   ]
  },
  {
   "cell_type": "code",
   "execution_count": null,
   "id": "28a9c2b3",
   "metadata": {},
   "outputs": [],
   "source": []
  },
  {
   "cell_type": "code",
   "execution_count": 9,
   "id": "148d0ddb",
   "metadata": {},
   "outputs": [
    {
     "data": {
      "text/plain": [
       "100"
      ]
     },
     "execution_count": 9,
     "metadata": {},
     "output_type": "execute_result"
    }
   ],
   "source": [
    "# bulk create\n",
    "\n",
    "memory_list = []\n",
    "\n",
    "for i in range(100):\n",
    "    title = f\"new title #{i}\"\n",
    "    content = f\"new content #{i}\"\n",
    "    memory = Memory(title=title, content=content)\n",
    "    # momory.save()   # 반복문에서 성능을 위해, 매번 save를 호출하지 않습니다.\n",
    "    \n",
    "    memory_list.append(memory)\n",
    "\n",
    "len(memory_list)"
   ]
  },
  {
   "cell_type": "code",
   "execution_count": 10,
   "id": "8df3b61b",
   "metadata": {
    "collapsed": true
   },
   "outputs": [
    {
     "data": {
      "text/plain": [
       "[<Memory: Memory object (5)>,\n",
       " <Memory: Memory object (6)>,\n",
       " <Memory: Memory object (7)>,\n",
       " <Memory: Memory object (8)>,\n",
       " <Memory: Memory object (9)>,\n",
       " <Memory: Memory object (10)>,\n",
       " <Memory: Memory object (11)>,\n",
       " <Memory: Memory object (12)>,\n",
       " <Memory: Memory object (13)>,\n",
       " <Memory: Memory object (14)>,\n",
       " <Memory: Memory object (15)>,\n",
       " <Memory: Memory object (16)>,\n",
       " <Memory: Memory object (17)>,\n",
       " <Memory: Memory object (18)>,\n",
       " <Memory: Memory object (19)>,\n",
       " <Memory: Memory object (20)>,\n",
       " <Memory: Memory object (21)>,\n",
       " <Memory: Memory object (22)>,\n",
       " <Memory: Memory object (23)>,\n",
       " <Memory: Memory object (24)>,\n",
       " <Memory: Memory object (25)>,\n",
       " <Memory: Memory object (26)>,\n",
       " <Memory: Memory object (27)>,\n",
       " <Memory: Memory object (28)>,\n",
       " <Memory: Memory object (29)>,\n",
       " <Memory: Memory object (30)>,\n",
       " <Memory: Memory object (31)>,\n",
       " <Memory: Memory object (32)>,\n",
       " <Memory: Memory object (33)>,\n",
       " <Memory: Memory object (34)>,\n",
       " <Memory: Memory object (35)>,\n",
       " <Memory: Memory object (36)>,\n",
       " <Memory: Memory object (37)>,\n",
       " <Memory: Memory object (38)>,\n",
       " <Memory: Memory object (39)>,\n",
       " <Memory: Memory object (40)>,\n",
       " <Memory: Memory object (41)>,\n",
       " <Memory: Memory object (42)>,\n",
       " <Memory: Memory object (43)>,\n",
       " <Memory: Memory object (44)>,\n",
       " <Memory: Memory object (45)>,\n",
       " <Memory: Memory object (46)>,\n",
       " <Memory: Memory object (47)>,\n",
       " <Memory: Memory object (48)>,\n",
       " <Memory: Memory object (49)>,\n",
       " <Memory: Memory object (50)>,\n",
       " <Memory: Memory object (51)>,\n",
       " <Memory: Memory object (52)>,\n",
       " <Memory: Memory object (53)>,\n",
       " <Memory: Memory object (54)>,\n",
       " <Memory: Memory object (55)>,\n",
       " <Memory: Memory object (56)>,\n",
       " <Memory: Memory object (57)>,\n",
       " <Memory: Memory object (58)>,\n",
       " <Memory: Memory object (59)>,\n",
       " <Memory: Memory object (60)>,\n",
       " <Memory: Memory object (61)>,\n",
       " <Memory: Memory object (62)>,\n",
       " <Memory: Memory object (63)>,\n",
       " <Memory: Memory object (64)>,\n",
       " <Memory: Memory object (65)>,\n",
       " <Memory: Memory object (66)>,\n",
       " <Memory: Memory object (67)>,\n",
       " <Memory: Memory object (68)>,\n",
       " <Memory: Memory object (69)>,\n",
       " <Memory: Memory object (70)>,\n",
       " <Memory: Memory object (71)>,\n",
       " <Memory: Memory object (72)>,\n",
       " <Memory: Memory object (73)>,\n",
       " <Memory: Memory object (74)>,\n",
       " <Memory: Memory object (75)>,\n",
       " <Memory: Memory object (76)>,\n",
       " <Memory: Memory object (77)>,\n",
       " <Memory: Memory object (78)>,\n",
       " <Memory: Memory object (79)>,\n",
       " <Memory: Memory object (80)>,\n",
       " <Memory: Memory object (81)>,\n",
       " <Memory: Memory object (82)>,\n",
       " <Memory: Memory object (83)>,\n",
       " <Memory: Memory object (84)>,\n",
       " <Memory: Memory object (85)>,\n",
       " <Memory: Memory object (86)>,\n",
       " <Memory: Memory object (87)>,\n",
       " <Memory: Memory object (88)>,\n",
       " <Memory: Memory object (89)>,\n",
       " <Memory: Memory object (90)>,\n",
       " <Memory: Memory object (91)>,\n",
       " <Memory: Memory object (92)>,\n",
       " <Memory: Memory object (93)>,\n",
       " <Memory: Memory object (94)>,\n",
       " <Memory: Memory object (95)>,\n",
       " <Memory: Memory object (96)>,\n",
       " <Memory: Memory object (97)>,\n",
       " <Memory: Memory object (98)>,\n",
       " <Memory: Memory object (99)>,\n",
       " <Memory: Memory object (100)>,\n",
       " <Memory: Memory object (101)>,\n",
       " <Memory: Memory object (102)>,\n",
       " <Memory: Memory object (103)>,\n",
       " <Memory: Memory object (104)>]"
      ]
     },
     "execution_count": 10,
     "metadata": {},
     "output_type": "execute_result"
    }
   ],
   "source": [
    "Memory.objects.bulk_create(memory_list)"
   ]
  },
  {
   "cell_type": "code",
   "execution_count": null,
   "id": "1b01cc37",
   "metadata": {},
   "outputs": [],
   "source": []
  },
  {
   "cell_type": "code",
   "execution_count": 11,
   "id": "33955f19",
   "metadata": {},
   "outputs": [
    {
     "data": {
      "text/plain": [
       "102"
      ]
     },
     "execution_count": 11,
     "metadata": {},
     "output_type": "execute_result"
    }
   ],
   "source": [
    "Memory.objects.all().count()"
   ]
  },
  {
   "cell_type": "code",
   "execution_count": 13,
   "id": "feec2372",
   "metadata": {},
   "outputs": [
    {
     "name": "stdout",
     "output_type": "stream",
     "text": [
      "20\n"
     ]
    }
   ],
   "source": [
    "qs = Memory.objects.filter(title__icontains=\"1\")\n",
    "# qs = qs.filter(...)\n",
    "print(qs.count())"
   ]
  },
  {
   "cell_type": "code",
   "execution_count": 15,
   "id": "fff64d55",
   "metadata": {},
   "outputs": [
    {
     "name": "stdout",
     "output_type": "stream",
     "text": [
      "96 new title #91\n",
      "86 new title #81\n",
      "76 new title #71\n",
      "66 new title #61\n",
      "56 new title #51\n",
      "46 new title #41\n",
      "36 new title #31\n",
      "26 new title #21\n",
      "24 new title #19\n",
      "23 new title #18\n",
      "22 new title #17\n",
      "21 new title #16\n",
      "20 new title #15\n",
      "19 new title #14\n",
      "18 new title #13\n",
      "17 new title #12\n",
      "16 new title #11\n",
      "15 new title #10\n",
      "6 new title #1\n",
      "3 title#1\n"
     ]
    }
   ],
   "source": [
    "for memory in qs:\n",
    "    print(memory.pk, memory.title)"
   ]
  },
  {
   "cell_type": "code",
   "execution_count": null,
   "id": "0e2e60bc",
   "metadata": {},
   "outputs": [],
   "source": []
  }
 ],
 "metadata": {
  "kernelspec": {
   "display_name": "Python 3 (ipykernel)",
   "language": "python",
   "name": "python3"
  },
  "language_info": {
   "codemirror_mode": {
    "name": "ipython",
    "version": 3
   },
   "file_extension": ".py",
   "mimetype": "text/x-python",
   "name": "python",
   "nbconvert_exporter": "python",
   "pygments_lexer": "ipython3",
   "version": "3.10.4"
  }
 },
 "nbformat": 4,
 "nbformat_minor": 5
}
